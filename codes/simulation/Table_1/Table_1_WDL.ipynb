{
 "cells": [
  {
   "cell_type": "code",
   "execution_count": 1,
   "metadata": {},
   "outputs": [],
   "source": [
    "## This Jupyter notebook reproduces the results for WDL in Table 1"
   ]
  },
  {
   "cell_type": "code",
   "execution_count": 2,
   "metadata": {},
   "outputs": [],
   "source": [
    "# import packages\n",
    "import os, sys\n",
    "sys.path.append('../../../lib/')\n",
    "import WDL as wp\n",
    "import numpy as np\n",
    "import pandas as pd\n",
    "import matplotlib.pyplot as plt\n",
    "from datetime import datetime\n",
    "from sklearn.model_selection import train_test_split"
   ]
  },
  {
   "cell_type": "code",
   "execution_count": 3,
   "metadata": {},
   "outputs": [],
   "source": [
    "# load data\n",
    "id_setting = 4 # \\omega = [0.1, 0.2, 0.5, 1, 2]\n",
    "X = pd.read_csv('../../../data/simulation/setting_' + str(id_setting) + '/dat_X.csv').to_numpy()\n",
    "Y = pd.read_csv('../../../data/simulation/setting_' + str(id_setting) + '/dat_Y.csv').to_numpy()\n",
    "loc_cv = pd.read_csv('../../../data/simulation/setting_' + str(id_setting) + '/dat_CV.csv').to_numpy().flatten()"
   ]
  },
  {
   "cell_type": "code",
   "execution_count": 4,
   "metadata": {},
   "outputs": [
    {
     "name": "stdout",
     "output_type": "stream",
     "text": [
      "Start training: 2021-09-11 22:26:47.284286\n",
      "This is fold 1\n",
      "2 0.1\n",
      "2 0.01\n",
      "3 0.1\n",
      "3 0.01\n",
      "5 0.1\n",
      "5 0.01\n",
      "Loss: [1.0066234555486564, 1.035182994457966, 1.0730263388070131, 1.1108563536921738, 1.0933097274882972, 1.1089402699187894]\n",
      "Best: 2 0.1 40\n",
      "This is fold 2\n",
      "2 0.1\n",
      "2 0.01\n",
      "3 0.1\n",
      "3 0.01\n",
      "5 0.1\n",
      "5 0.01\n",
      "Loss: [1.0732741087445732, 1.0836639057172175, 1.0662676340875912, 1.0885668174537841, 1.1510590426844258, 1.1738985578203667]\n",
      "Best: 3 0.1 207\n",
      "This is fold 3\n",
      "2 0.1\n",
      "2 0.01\n",
      "3 0.1\n",
      "3 0.01\n",
      "5 0.1\n",
      "5 0.01\n",
      "Loss: [1.1625455374468388, 1.1672190355084013, 1.1930910612263275, 1.2179618632283293, 1.2704952776874063, 1.2873273525306594]\n",
      "Best: 2 0.1 27\n",
      "This is fold 4\n",
      "2 0.1\n",
      "2 0.01\n",
      "3 0.1\n",
      "3 0.01\n",
      "5 0.1\n",
      "5 0.01\n",
      "Loss: [1.1922378908521385, 1.2045553692208755, 1.2546910389229198, 1.2888441234392123, 1.2809532303674678, 1.33052184907812]\n",
      "Best: 2 0.1 32\n",
      "This is fold 5\n",
      "2 0.1\n",
      "2 0.01\n",
      "3 0.1\n",
      "3 0.01\n",
      "5 0.1\n",
      "5 0.01\n",
      "Loss: [0.8394160678621866, 0.8645438915561346, 0.8590763501918894, 0.8967114590667549, 0.9120452990083543, 0.9344060056574215]\n",
      "Best: 2 0.1 59\n",
      "Done!\n",
      "Time: 1:28:51.253605\n"
     ]
    }
   ],
   "source": [
    "# nested cross validation\n",
    "n_dist = Y.shape[0]\n",
    "n_levs = 100\n",
    "n_fold = np.max(loc_cv) + 1\n",
    "q_vec = np.arange(1, n_levs) / n_levs\n",
    "## transform Y\n",
    "Q_mat = np.array([np.quantile(Y[i], q_vec) for i in range(n_dist)])\n",
    "Q_test = np.zeros(Q_mat.shape)\n",
    "\n",
    "K_list = [2, 3, 5]\n",
    "lr_list = [1e-1, 1e-2]\n",
    "n_iter = 1000\n",
    "## outer loop\n",
    "time_start = datetime.now()\n",
    "print('Start training:', time_start)\n",
    "for i in range(n_fold):\n",
    "    print('This is fold', str(i+1))\n",
    "    X_train = X[loc_cv != i]\n",
    "    Y_train = Q_mat[loc_cv != i]\n",
    "    X_test = X[loc_cv == i]\n",
    "    Y_test = Q_mat[loc_cv == i]\n",
    "    ## inner parameter selection\n",
    "    X_t_in, X_v_in, Y_t_in, Y_v_in = train_test_split(X_train, Y_train, test_size=0.25, random_state=2022)\n",
    "    par_combo = [(K, lr) for K in K_list for lr in lr_list]\n",
    "    loss_ = []\n",
    "    iters_ = []\n",
    "    for K_mix, lr in par_combo:\n",
    "        print(K_mix, lr)\n",
    "        res_init = wp.WDL(X_t_in, Y_t_in, X_v_in, Y_v_in,\n",
    "                          q_vec=q_vec, K=K_mix, max_iter=n_iter, warm_up=1, max_depth=1, \n",
    "                          patience=10, lr=lr, random_state=2022)\n",
    "        iters_.append(res_init['iter_best'])\n",
    "        loss_.append(res_init['val_loss'][res_init['iter_best']])\n",
    "    ## choose the best params\n",
    "    K_best, lr_best = par_combo[np.argmin(np.array(loss_))]\n",
    "    iter_best = iters_[np.argmin(np.array(loss_))]\n",
    "    print('Loss:', loss_)\n",
    "    print('Best:', K_best, lr_best, iter_best)\n",
    "    ## retrain the model over the training set\n",
    "    res = wp.WDL(X_train, Y_train, X_test, Y_test, q_vec=q_vec, \n",
    "                 K=K_best, max_iter=iter_best, warm_up=1, \n",
    "                 max_depth=1, early_stop=False, lr=lr_best, random_state=2022)\n",
    "    \n",
    "    \n",
    "    alpha_test = np.zeros((X_test.shape[0], K_best))\n",
    "    mu_test = np.zeros((X_test.shape[0], K_best))\n",
    "    sigma_test = np.zeros((X_test.shape[0], K_best))\n",
    "    \n",
    "    v_lr = np.array([1] + [lr_best] * iter_best)\n",
    "    for k in range(K_best):\n",
    "        alpha_test[:, k] = wp.pred_boost(X_test, res['alpha'][k], lr_=v_lr, n_term=iter_best)\n",
    "        mu_test[:, k] = wp.pred_boost(X_test, res['mu'][k], lr_=v_lr, n_term=iter_best)\n",
    "        sigma_test[:, k] = np.exp(wp.pred_boost(X_test, res['sigma'][k], lr_=v_lr, n_term=iter_best))\n",
    "    \n",
    "    n_test = Y_test.shape[0]\n",
    "    pi_test = np.exp(alpha_test)\n",
    "    pi_test = (pi_test.T / np.sum(pi_test, axis=1)).T\n",
    "    Q_test[loc_cv == i] = [wp.qgmm1d(q_vec, mu_test[j], sigma_test[j], pi_test[j]) for j in range(n_test)]\n",
    "print('Done!')\n",
    "print('Time:', datetime.now() - time_start )"
   ]
  },
  {
   "cell_type": "code",
   "execution_count": 5,
   "metadata": {},
   "outputs": [
    {
     "name": "stdout",
     "output_type": "stream",
     "text": [
      "Test loss: 1.0867950524265513\n",
      "Test R-squared: 0.3402540477459597\n"
     ]
    }
   ],
   "source": [
    "# evaluate the results\n",
    "RMSE = np.mean((Q_mat - Q_test)**2)\n",
    "var_y = np.mean((Q_mat - np.mean(Q_mat, axis=0))**2)\n",
    "R_sq = 1 - RMSE / var_y\n",
    "print('Test loss:', RMSE)\n",
    "print('Test R-squared:', R_sq)"
   ]
  },
  {
   "cell_type": "code",
   "execution_count": null,
   "metadata": {},
   "outputs": [],
   "source": []
  },
  {
   "cell_type": "code",
   "execution_count": null,
   "metadata": {},
   "outputs": [],
   "source": []
  },
  {
   "cell_type": "code",
   "execution_count": null,
   "metadata": {},
   "outputs": [],
   "source": []
  },
  {
   "cell_type": "code",
   "execution_count": null,
   "metadata": {},
   "outputs": [],
   "source": []
  }
 ],
 "metadata": {
  "kernelspec": {
   "display_name": "Python 3",
   "language": "python",
   "name": "python3"
  },
  "language_info": {
   "codemirror_mode": {
    "name": "ipython",
    "version": 3
   },
   "file_extension": ".py",
   "mimetype": "text/x-python",
   "name": "python",
   "nbconvert_exporter": "python",
   "pygments_lexer": "ipython3",
   "version": "3.7.6"
  }
 },
 "nbformat": 4,
 "nbformat_minor": 4
}
